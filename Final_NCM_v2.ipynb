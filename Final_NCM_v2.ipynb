{
  "cells": [
    {
      "cell_type": "markdown",
      "metadata": {
        "id": "view-in-github",
        "colab_type": "text"
      },
      "source": [
        "<a href=\"https://colab.research.google.com/github/Ilanthenral/NCM/blob/main/Final_NCM_v2.ipynb\" target=\"_parent\"><img src=\"https://colab.research.google.com/assets/colab-badge.svg\" alt=\"Open In Colab\"/></a>"
      ]
    },
    {
      "cell_type": "markdown",
      "metadata": {
        "id": "okbAaxQbWyra"
      },
      "source": [
        "##Instructions\n",
        "\n",
        "\n",
        "1. For Indeterminacy entry use **J**\n",
        "2. Change the values in the last cell to test in the colab notebook.\n",
        "3. Also, to get dynamic input form the user use the **start()** function.\n",
        "4. Dynamic input will not work in notebook for this we need to separate the code into **.py** files."
      ]
    },
    {
      "cell_type": "code",
      "execution_count": null,
      "metadata": {
        "id": "n0VeyZfmNhnH"
      },
      "outputs": [],
      "source": [
        "# Importing necesssary libraries\n",
        "import numpy as np\n",
        "\n",
        "# To handle indeterminate variable value in matrix\n",
        "import sympy as sym\n",
        "from sympy import *\n",
        "J=symbols('J')  # We are using 'J' to indicate that the value is indeterminate\n",
        "\n",
        "import random"
      ]
    },
    {
      "cell_type": "code",
      "execution_count": null,
      "metadata": {
        "id": "J4DOGVu82GIX"
      },
      "outputs": [],
      "source": [
        "\"\"\"\n",
        "  Check whether a cycle of state vector exists or not.\n",
        " i.e To check whether we are getting a previously calculated\n",
        " state vector or not after applying threholding operation.\n",
        "\n",
        "  Function Parameters:\n",
        "    b : a 1D vector array\n",
        "\"\"\"\n",
        "\n",
        "def check_cycle(b) :\n",
        "  for i in range(len(b) - 1) :\n",
        "    for j in range(i + 1 , len(b)) :\n",
        "      v1 = b[i]\n",
        "      v2 = b[j]\n",
        "      if(compare(v1 , v2) == True) :\n",
        "        return True\n",
        "  return False\n"
      ]
    },
    {
      "cell_type": "code",
      "execution_count": null,
      "metadata": {
        "id": "-Btl7-r3i1pF"
      },
      "outputs": [],
      "source": [
        "\"\"\"\n",
        "  Comparing whether two state vectors are equal or not.\n",
        "\n",
        "  Function Parameters:\n",
        "    x, y : a 1D vector array\n",
        "\"\"\"\n",
        "def compare(x , y) :\n",
        "\n",
        "  res = True\n",
        "\n",
        "  for k in range(len(x)) :\n",
        "\n",
        "    if x[k] != y[k] :\n",
        "      return False\n",
        "\n",
        "  return True\n"
      ]
    },
    {
      "cell_type": "code",
      "execution_count": null,
      "metadata": {
        "id": "NQW4TR7QfaCi"
      },
      "outputs": [],
      "source": [
        "v2=[]"
      ]
    },
    {
      "cell_type": "code",
      "execution_count": null,
      "metadata": {
        "id": "SRPecK2xHuUr"
      },
      "outputs": [],
      "source": [
        "\"\"\"\n",
        "A function to accept user input for adjacency/connection matrix.\n",
        "This function accepts the matrix input in row-wise manner.\n",
        "\n",
        "\"\"\"\n",
        "\n",
        "def inputE():\n",
        "\n",
        "  # Taking the number of nodes.\n",
        "  n=int(input(\"Enter the number of nodes required:\"))\n",
        "\n",
        "  matrix = sym.Matrix()\n",
        "\n",
        "  row=[]\n",
        "\n",
        "  # Taking row-wise input for the matrix.\n",
        "  for i in range (0,n):\n",
        "\n",
        "    string = input(\"Enter elements (Space-Separated): \")\n",
        "    temp = string.split()\n",
        "    print(type(temp))\n",
        "    temp=[eval(i) for i in temp] #to int\n",
        "    v1=np.array(temp)\n",
        "    print(v1)\n",
        "\n",
        "    v2.append\n",
        "    row.append(temp)\n",
        "\n",
        "# Inserting each row into matrix.\n",
        "  for i in range(0,n):\n",
        "    matrix = matrix.row_insert(i,Matrix([row[i]]))\n",
        "\n",
        "  return matrix"
      ]
    },
    {
      "cell_type": "code",
      "execution_count": null,
      "metadata": {
        "id": "--q2ITlyim7s"
      },
      "outputs": [],
      "source": [
        "\"\"\"\n",
        " Multipying a vector with matrix\n",
        "\n",
        " Function Paramerts:\n",
        "   a : a 1D vector\n",
        "   B : a 2D matrix\n",
        "\"\"\"\n",
        "def multiply(a, B) :\n",
        "  result = a * B\n",
        "  #print(result)\n",
        "  return result"
      ]
    },
    {
      "cell_type": "code",
      "execution_count": null,
      "metadata": {
        "id": "kgV_Yhvcxzoe"
      },
      "outputs": [],
      "source": [
        "def updateIPower(x):\n",
        "  for i in range((np.shape(x))[1]):\n",
        "\n",
        "    if x[i].find(J**2):\n",
        "      x[i]=x[i].xreplace({J**2:J})\n",
        "  return x"
      ]
    },
    {
      "cell_type": "code",
      "execution_count": null,
      "metadata": {
        "id": "BxKzf-YZ6lPX"
      },
      "outputs": [],
      "source": [
        "\"\"\"\n",
        "Performing the thresholding operation.\n",
        "\n",
        "Function Parameters:\n",
        "  X : a 1D vector\n",
        "  threshold_value : an integer (threshold value to make necessary updation )\n",
        "\"\"\"\n",
        "def thresholdAndUpdate(X , threshold_value, state) :\n",
        "  #print(X)\n",
        "  X=updateIPower(X)\n",
        "  for i in range((np.shape(X)[1])):\n",
        "      if(X[i].find(-1)):\n",
        "        X[i]=0\n",
        "      temp_expr=X[i].subs(J,0)\n",
        "      if(temp_expr>=threshold_value):\n",
        "        X[i]=X[i].subs(X[i],threshold_value)\n",
        "      elif(temp_expr==0):\n",
        "        if(X[i].find(J)):\n",
        "          X[i]=J\n",
        "      else:\n",
        "        X[i]=X[i].subs(X[i],0)\n",
        "  if isinstance(state, list):\n",
        "    activated_states = [i for i, x in enumerate(state) if x == 1]\n",
        "    for s in activated_states:\n",
        "      X[s] = 1\n",
        "  else:\n",
        "    X[state - 1] = 1\n",
        "  #print(\"After Thresholding and Updating\", X)\n",
        "  return X"
      ]
    },
    {
      "cell_type": "code",
      "execution_count": null,
      "metadata": {
        "id": "AUUm7KpmNXab"
      },
      "outputs": [],
      "source": [
        "\"\"\"\n",
        "Performing the iterative operations of multiplication & thresholding.\n",
        "\n",
        "Function Parameters:\n",
        "  E : Adjaency/Connection matrix\n",
        "  threshold_value : an integer\n",
        "  state : an integer denoting which state to activate\n",
        "\"\"\"\n",
        "def iteration(E , state, threshold_value = 1) :\n",
        "    if isinstance(state, list):\n",
        "        start = sym.Matrix(state)\n",
        "    else:\n",
        "        c1 = np.zeros((np.shape(E)[1]))\n",
        "        c1[state - 1] = 1\n",
        "        start = sym.Matrix(c1)\n",
        "\n",
        "    flag = False\n",
        "    start = start.T\n",
        "    vectors = []\n",
        "    while flag == False :\n",
        "      y = multiply(start , E)\n",
        "      y = y.applyfunc(lambda x: round(x, 2) if x.is_number else x)\n",
        "      #print(y)\n",
        "      # Performing the thresholding operation on output vector y\n",
        "      y = thresholdAndUpdate(y , threshold_value, state)\n",
        "      #print(\"After Thresholding and Updating\" )\n",
        "      #print(y)\n",
        "      vectors.append(y)\n",
        "      # Updating start vector to start with new state vector\n",
        "      start = y\n",
        "      # Checking for cycle among state vectors\n",
        "      flag = check_cycle(vectors)\n",
        "    return vectors"
      ]
    },
    {
      "cell_type": "code",
      "execution_count": null,
      "metadata": {
        "id": "6a48e00e"
      },
      "outputs": [],
      "source": [
        "\n",
        "from itertools import combinations\n",
        "\n",
        "def generate_two_on_states(num_nodes):\n",
        "    \"\"\"\n",
        "    Funtion Parameters:\n",
        "        num_nodes (int): The total number of nodes in the NCM.\n",
        "    \"\"\"\n",
        "    node_indices = list(range(num_nodes))\n",
        "    two_on_combinations = list(combinations(node_indices, 2))\n",
        "    state_vectors = []\n",
        "    for combo in two_on_combinations:\n",
        "        vector = [0] * num_nodes\n",
        "        for index in combo:\n",
        "            vector[index] = 1\n",
        "        state_vectors.append(vector)\n",
        "    return state_vectors\n"
      ]
    },
    {
      "cell_type": "code",
      "execution_count": null,
      "metadata": {
        "id": "F3_SxCHRhBrE"
      },
      "outputs": [],
      "source": [
        "import networkx as nx\n",
        "import graphviz\n",
        "from IPython.display import display\n",
        "def start2() :\n",
        "  #E=inputE()\n",
        "  E= Matrix([\n",
        "     [0, -1, 'J', 1, 0, 1, 0],\n",
        "     [0, 0, 0, 0, 1, 0, 1],\n",
        "     [0, 0, 0, 0, 1, 1, 0],\n",
        "     [0, 'J', 0, 0, 0, 0, -1],\n",
        "     [0, 0, 0, 0, 0, 0, -1],\n",
        "     [1, 1, 0, 0, 0, 0, 'J'],\n",
        "     [0, 0, 1, 0, 0, 0, 0]\n",
        "    ])\n",
        "\n",
        "  # E = E.applyfunc(lambda x:round(x/5, 2) if x.is_number else x)#Comment this if normalization is not required for the matrix\n",
        "  print(\"The E matrix is : \")\n",
        "  print(E)\n",
        "\n",
        "  #Graph\n",
        "  G = nx.MultiDiGraph()\n",
        "  mapping = {i + 1: f'C{i + 1}' for i in range(E.shape[0])}\n",
        "\n",
        "  # mapping = {\n",
        "  #   1: 'M',\n",
        "  #   2: 'A1',\n",
        "  #   3: 'B1',\n",
        "  #   4: 'C1',\n",
        "  #   5: 'D1',\n",
        "  #   6: 'E1',\n",
        "  #   7: 'F1',\n",
        "  #   8: 'G1',\n",
        "  #   9: 'H1',\n",
        "  #   10: 'I1'\n",
        "  # }\n",
        "\n",
        "  for i in range(E.shape[0]):\n",
        "      for j in range(E.shape[1]):\n",
        "          if E[i, j] != 0:\n",
        "              weight = 'I' if E[i, j] == Symbol('J') else E[i, j] #Enclose the else part with float() if the elements in the matrix are float\n",
        "              G.add_edge(i + 1, j + 1, weight=weight)\n",
        "\n",
        "  G = nx.relabel_nodes(G, mapping)\n",
        "  dot = graphviz.Digraph(comment='My Graph', format='png', graph_attr={'rankdir': 'LR'})\n",
        "\n",
        "  for node in G.nodes():\n",
        "      dot.node(node)\n",
        "\n",
        "  for u, v, data in G.edges(data=True):\n",
        "      label = f'{data[\"weight\"]:.2f}' if isinstance(data[\"weight\"], float) else str(data[\"weight\"])\n",
        "      dot.edge(u, v, label=label)\n",
        "\n",
        "  dot.render('graph_output', view=True, cleanup=True, engine='dot', format='png', renderer='cairo')\n",
        "  display(dot)\n",
        "\n",
        "  print(\"Enter the threshold value : \")\n",
        "  threshold_value = 1 #int(input())\n",
        "\n",
        "  print(\"Enter the state which is to be active (If an iteration of all states active one by one enter 0): \")\n",
        "  state = 0 #int(input())\n",
        "\n",
        "  if state > (np.shape(E)[1]) or state < 0:\n",
        "    print(\"INVALID STATE ENTERED\")\n",
        "\n",
        "  elif state != 0:\n",
        "    AE = iteration(E , state, threshold_value )\n",
        "    print(AE)\n",
        "\n",
        "  else :\n",
        "    table = []\n",
        "\n",
        "    for x in range(1 , (np.shape(E)[1]) +1 ) :\n",
        "      print(\"FOR ACTIVE STATE \" , x)\n",
        "      AE = iteration(E , x , threshold_value)\n",
        "      print(\"Resultant vector(s)\", AE)\n",
        "      table.append(AE)\n",
        "\n",
        "    print(\"FULL TABLE\")\n",
        "    print(table)\n",
        "\n",
        "\n",
        "\n",
        "# G.add_edge(1,1,weight=1)\n",
        "# G.add_edges_from([(1, 7), (2, 1), (2, 2), (2, 3),\n",
        "#               (2, 6), (3, 5), (4, 3), (5, 4), (5, 8),\n",
        "#               (5, 9), (6, 4), (7, 2), (7, 6), (8, 7)])\n",
        "\n",
        "# plt.figure(figsize =(9, 9))\n",
        "# nx.draw_networkx(G, arrows = True, node_color ='green')\n",
        "\n",
        "# # getting different graph attributes\n",
        "# print(\"Total number of nodes: \", int(G.number_of_nodes()))\n",
        "# print(\"Total number of edges: \", int(G.number_of_edges()))\n",
        "# print(\"List of all nodes: \", list(G.nodes()))\n",
        "# print(\"List of all edges: \", list(G.edges()))\n",
        "# pr\n",
        "# print(\"List of all nodes from which we can go to node 2 in a single step: \",\n",
        "#                                                   list(G.predecessors(2)))\n",
        "# G.add_edge(\"a\", \"b\", weight=0.6)\n",
        "# G.add_edge(\"a\", \"c\", weight=0.2)\n",
        "# G.add_edge(\"c\", \"d\", weight=0.1)\n",
        "# G.add_edge(\"c\", \"e\", weight=0.7)\n",
        "# G.add_edge(\"c\", \"f\", weight=0.9)\n",
        "# G.add_edge(\"a\", \"d\", weight=0.3)\n",
        "\n",
        "# elarge = [(u, v) for (u, v, d) in G.edges(data=True) if d[\"weight\"] > 0.5]\n",
        "# esmall = [(u, v) for (u, v, d) in G.edges(data=True) if d[\"weight\"] <= 0.5]\n",
        "\n",
        "\n",
        "    print(\"\\n\\n\\n\")\n",
        "    user_choice = input(\"Do you want to proceed with combinations logic for initial state vectors with two 'ON' nodes? (yes/no): \")\n",
        "    if user_choice.lower() == 'yes':\n",
        "      two_on_states = generate_two_on_states(np.shape(E)[1])\n",
        "      table = []\n",
        "      for state_vector in two_on_states:\n",
        "          print(\"Activating state:\", state_vector)\n",
        "          AE = iteration(E, state_vector, threshold_value)\n",
        "          print(AE)\n",
        "          table.append(AE)\n",
        "      print(\"FULL TABLE FOR COMBINATIONS\")\n",
        "      print(table)"
      ]
    },
    {
      "cell_type": "code",
      "execution_count": null,
      "metadata": {
        "id": "IhE8nduarb2m"
      },
      "outputs": [],
      "source": [
        "from IPython.display import HTML, display\n",
        "\n",
        "def set_css():\n",
        "  display(HTML('''\n",
        "  <style>\n",
        "    pre {\n",
        "        white-space: pre-wrap;\n",
        "    }\n",
        "  </style>\n",
        "  '''))\n",
        "get_ipython().events.register('pre_run_cell', set_css)\n"
      ]
    },
    {
      "cell_type": "code",
      "source": [
        "start2()"
      ],
      "metadata": {
        "colab": {
          "base_uri": "https://localhost:8080/",
          "height": 1000
        },
        "id": "-EM4vc_hDquH",
        "outputId": "5a2c39f3-7f09-49ec-fe24-08b21a24d818"
      },
      "execution_count": null,
      "outputs": [
        {
          "output_type": "display_data",
          "data": {
            "text/plain": [
              "<IPython.core.display.HTML object>"
            ],
            "text/html": [
              "\n",
              "  <style>\n",
              "    pre {\n",
              "        white-space: pre-wrap;\n",
              "    }\n",
              "  </style>\n",
              "  "
            ]
          },
          "metadata": {}
        },
        {
          "output_type": "stream",
          "name": "stdout",
          "text": [
            "The E matrix is : \n",
            "Matrix([[0, -1, J, 1, 0, 1, 0], [0, 0, 0, 0, 1, 0, 1], [0, 0, 0, 0, 1, 1, 0], [0, J, 0, 0, 0, 0, -1], [0, 0, 0, 0, 0, 0, -1], [1, 1, 0, 0, 0, 0, J], [0, 0, 1, 0, 0, 0, 0]])\n"
          ]
        },
        {
          "output_type": "display_data",
          "data": {
            "image/svg+xml": "<?xml version=\"1.0\" encoding=\"UTF-8\" standalone=\"no\"?>\n<!DOCTYPE svg PUBLIC \"-//W3C//DTD SVG 1.1//EN\"\n \"http://www.w3.org/Graphics/SVG/1.1/DTD/svg11.dtd\">\n<!-- Generated by graphviz version 2.43.0 (0)\n -->\n<!-- Title: %3 Pages: 1 -->\n<svg width=\"652pt\" height=\"293pt\"\n viewBox=\"0.00 0.00 652.00 293.00\" xmlns=\"http://www.w3.org/2000/svg\" xmlns:xlink=\"http://www.w3.org/1999/xlink\">\n<g id=\"graph0\" class=\"graph\" transform=\"scale(1 1) rotate(0) translate(4 289)\">\n<title>%3</title>\n<polygon fill=\"white\" stroke=\"transparent\" points=\"-4,4 -4,-289 648,-289 648,4 -4,4\"/>\n<!-- C1 -->\n<g id=\"node1\" class=\"node\">\n<title>C1</title>\n<ellipse fill=\"none\" stroke=\"black\" cx=\"27\" cy=\"-89\" rx=\"27\" ry=\"18\"/>\n<text text-anchor=\"middle\" x=\"27\" y=\"-85.3\" font-family=\"Times,serif\" font-size=\"14.00\">C1</text>\n</g>\n<!-- C2 -->\n<g id=\"node2\" class=\"node\">\n<title>C2</title>\n<ellipse fill=\"none\" stroke=\"black\" cx=\"219\" cy=\"-144\" rx=\"27\" ry=\"18\"/>\n<text text-anchor=\"middle\" x=\"219\" y=\"-140.3\" font-family=\"Times,serif\" font-size=\"14.00\">C2</text>\n</g>\n<!-- C1&#45;&gt;C2 -->\n<g id=\"edge1\" class=\"edge\">\n<title>C1&#45;&gt;C2</title>\n<path fill=\"none\" stroke=\"black\" d=\"M49.76,-98.9C56.8,-101.96 64.68,-105.25 72,-108 108.74,-121.77 152.65,-131.78 182.66,-137.7\"/>\n<polygon fill=\"black\" stroke=\"black\" points=\"182.18,-141.17 192.66,-139.62 183.5,-134.3 182.18,-141.17\"/>\n<text text-anchor=\"middle\" x=\"124\" y=\"-133.8\" font-family=\"Times,serif\" font-size=\"14.00\">&#45;1</text>\n</g>\n<!-- C3 -->\n<g id=\"node3\" class=\"node\">\n<title>C3</title>\n<ellipse fill=\"none\" stroke=\"black\" cx=\"520\" cy=\"-116\" rx=\"27\" ry=\"18\"/>\n<text text-anchor=\"middle\" x=\"520\" y=\"-112.3\" font-family=\"Times,serif\" font-size=\"14.00\">C3</text>\n</g>\n<!-- C1&#45;&gt;C3 -->\n<g id=\"edge2\" class=\"edge\">\n<title>C1&#45;&gt;C3</title>\n<path fill=\"none\" stroke=\"black\" d=\"M44.68,-75.2C62.78,-61.65 93.13,-43 123,-43 123,-43 123,-43 424,-43 456.69,-43 485.04,-70.51 502.06,-91.75\"/>\n<polygon fill=\"black\" stroke=\"black\" points=\"499.37,-93.99 508.23,-99.8 504.93,-89.73 499.37,-93.99\"/>\n<text text-anchor=\"middle\" x=\"270\" y=\"-46.8\" font-family=\"Times,serif\" font-size=\"14.00\">I</text>\n</g>\n<!-- C4 -->\n<g id=\"node4\" class=\"node\">\n<title>C4</title>\n<ellipse fill=\"none\" stroke=\"black\" cx=\"124\" cy=\"-89\" rx=\"27\" ry=\"18\"/>\n<text text-anchor=\"middle\" x=\"124\" y=\"-85.3\" font-family=\"Times,serif\" font-size=\"14.00\">C4</text>\n</g>\n<!-- C1&#45;&gt;C4 -->\n<g id=\"edge3\" class=\"edge\">\n<title>C1&#45;&gt;C4</title>\n<path fill=\"none\" stroke=\"black\" d=\"M54.21,-89C64.28,-89 75.96,-89 86.81,-89\"/>\n<polygon fill=\"black\" stroke=\"black\" points=\"86.87,-92.5 96.87,-89 86.87,-85.5 86.87,-92.5\"/>\n<text text-anchor=\"middle\" x=\"75.5\" y=\"-92.8\" font-family=\"Times,serif\" font-size=\"14.00\">1</text>\n</g>\n<!-- C6 -->\n<g id=\"node5\" class=\"node\">\n<title>C6</title>\n<ellipse fill=\"none\" stroke=\"black\" cx=\"617\" cy=\"-175\" rx=\"27\" ry=\"18\"/>\n<text text-anchor=\"middle\" x=\"617\" y=\"-171.3\" font-family=\"Times,serif\" font-size=\"14.00\">C6</text>\n</g>\n<!-- C1&#45;&gt;C6 -->\n<g id=\"edge4\" class=\"edge\">\n<title>C1&#45;&gt;C6</title>\n<path fill=\"none\" stroke=\"black\" d=\"M29.09,-107.02C32.93,-152.8 49.89,-270 123,-270 123,-270 123,-270 521,-270 559.98,-270 588.55,-229.52 603.69,-201.41\"/>\n<polygon fill=\"black\" stroke=\"black\" points=\"606.85,-202.92 608.31,-192.42 600.62,-199.72 606.85,-202.92\"/>\n<text text-anchor=\"middle\" x=\"321\" y=\"-273.8\" font-family=\"Times,serif\" font-size=\"14.00\">1</text>\n</g>\n<!-- C5 -->\n<g id=\"node6\" class=\"node\">\n<title>C5</title>\n<ellipse fill=\"none\" stroke=\"black\" cx=\"321\" cy=\"-127\" rx=\"27\" ry=\"18\"/>\n<text text-anchor=\"middle\" x=\"321\" y=\"-123.3\" font-family=\"Times,serif\" font-size=\"14.00\">C5</text>\n</g>\n<!-- C2&#45;&gt;C5 -->\n<g id=\"edge5\" class=\"edge\">\n<title>C2&#45;&gt;C5</title>\n<path fill=\"none\" stroke=\"black\" d=\"M245.23,-139.71C257.2,-137.68 271.69,-135.21 284.72,-133\"/>\n<polygon fill=\"black\" stroke=\"black\" points=\"285.5,-136.41 294.77,-131.29 284.33,-129.51 285.5,-136.41\"/>\n<text text-anchor=\"middle\" x=\"270\" y=\"-139.8\" font-family=\"Times,serif\" font-size=\"14.00\">1</text>\n</g>\n<!-- C7 -->\n<g id=\"node7\" class=\"node\">\n<title>C7</title>\n<ellipse fill=\"none\" stroke=\"black\" cx=\"423\" cy=\"-163\" rx=\"27\" ry=\"18\"/>\n<text text-anchor=\"middle\" x=\"423\" y=\"-159.3\" font-family=\"Times,serif\" font-size=\"14.00\">C7</text>\n</g>\n<!-- C2&#45;&gt;C7 -->\n<g id=\"edge6\" class=\"edge\">\n<title>C2&#45;&gt;C7</title>\n<path fill=\"none\" stroke=\"black\" d=\"M244.54,-150.77C250.84,-152.33 257.64,-153.87 264,-155 314.11,-163.92 327.13,-167.73 378,-166 380.54,-165.91 383.17,-165.8 385.81,-165.66\"/>\n<polygon fill=\"black\" stroke=\"black\" points=\"386.18,-169.15 395.96,-165.07 385.77,-162.16 386.18,-169.15\"/>\n<text text-anchor=\"middle\" x=\"321\" y=\"-169.8\" font-family=\"Times,serif\" font-size=\"14.00\">1</text>\n</g>\n<!-- C3&#45;&gt;C6 -->\n<g id=\"edge8\" class=\"edge\">\n<title>C3&#45;&gt;C6</title>\n<path fill=\"none\" stroke=\"black\" d=\"M541,-127.45C550.47,-132.95 561.89,-139.7 572,-146 577.5,-149.43 583.33,-153.18 588.88,-156.82\"/>\n<polygon fill=\"black\" stroke=\"black\" points=\"587.02,-159.78 597.29,-162.37 590.88,-153.94 587.02,-159.78\"/>\n<text text-anchor=\"middle\" x=\"568.5\" y=\"-149.8\" font-family=\"Times,serif\" font-size=\"14.00\">1</text>\n</g>\n<!-- C3&#45;&gt;C5 -->\n<g id=\"edge7\" class=\"edge\">\n<title>C3&#45;&gt;C5</title>\n<path fill=\"none\" stroke=\"black\" d=\"M492.59,-116.77C467.67,-117.56 429.28,-118.98 396,-121 383.66,-121.75 370.18,-122.78 358.15,-123.78\"/>\n<polygon fill=\"black\" stroke=\"black\" points=\"357.68,-120.3 348.01,-124.63 358.27,-127.28 357.68,-120.3\"/>\n<text text-anchor=\"middle\" x=\"423\" y=\"-124.8\" font-family=\"Times,serif\" font-size=\"14.00\">1</text>\n</g>\n<!-- C4&#45;&gt;C2 -->\n<g id=\"edge9\" class=\"edge\">\n<title>C4&#45;&gt;C2</title>\n<path fill=\"none\" stroke=\"black\" d=\"M146.23,-99.7C154.94,-104.24 165.05,-109.69 174,-115 179.58,-118.31 185.44,-122.01 191,-125.63\"/>\n<polygon fill=\"black\" stroke=\"black\" points=\"189.13,-128.59 199.41,-131.18 192.99,-122.75 189.13,-128.59\"/>\n<text text-anchor=\"middle\" x=\"171.5\" y=\"-118.8\" font-family=\"Times,serif\" font-size=\"14.00\">I</text>\n</g>\n<!-- C4&#45;&gt;C7 -->\n<g id=\"edge10\" class=\"edge\">\n<title>C4&#45;&gt;C7</title>\n<path fill=\"none\" stroke=\"black\" d=\"M150.52,-85.1C193.15,-79.7 280.79,-73.37 348,-100 351.05,-101.21 377.65,-124.16 398.1,-142.01\"/>\n<polygon fill=\"black\" stroke=\"black\" points=\"396.02,-144.84 405.85,-148.79 400.63,-139.57 396.02,-144.84\"/>\n<text text-anchor=\"middle\" x=\"270\" y=\"-85.8\" font-family=\"Times,serif\" font-size=\"14.00\">&#45;1</text>\n</g>\n<!-- C6&#45;&gt;C1 -->\n<g id=\"edge11\" class=\"edge\">\n<title>C6&#45;&gt;C1</title>\n<path fill=\"none\" stroke=\"black\" d=\"M614.63,-156.93C610.16,-112.22 591.87,0 521,0 123,0 123,0 123,0 85.8,0 57.17,-36.79 41.46,-63.06\"/>\n<polygon fill=\"black\" stroke=\"black\" points=\"38.37,-61.42 36.45,-71.84 44.45,-64.89 38.37,-61.42\"/>\n<text text-anchor=\"middle\" x=\"321\" y=\"-3.8\" font-family=\"Times,serif\" font-size=\"14.00\">1</text>\n</g>\n<!-- C6&#45;&gt;C2 -->\n<g id=\"edge12\" class=\"edge\">\n<title>C6&#45;&gt;C2</title>\n<path fill=\"none\" stroke=\"black\" d=\"M600.13,-189.17C582.23,-203.64 551.62,-224 521,-224 320,-224 320,-224 320,-224 284.16,-224 253.8,-192.28 236.24,-168.79\"/>\n<polygon fill=\"black\" stroke=\"black\" points=\"239.03,-166.67 230.36,-160.58 233.34,-170.74 239.03,-166.67\"/>\n<text text-anchor=\"middle\" x=\"423\" y=\"-227.8\" font-family=\"Times,serif\" font-size=\"14.00\">1</text>\n</g>\n<!-- C6&#45;&gt;C7 -->\n<g id=\"edge13\" class=\"edge\">\n<title>C6&#45;&gt;C7</title>\n<path fill=\"none\" stroke=\"black\" d=\"M589.9,-173.37C556.31,-171.27 497.77,-167.61 459.97,-165.25\"/>\n<polygon fill=\"black\" stroke=\"black\" points=\"460.09,-161.75 449.89,-164.62 459.66,-168.74 460.09,-161.75\"/>\n<text text-anchor=\"middle\" x=\"520\" y=\"-173.8\" font-family=\"Times,serif\" font-size=\"14.00\">I</text>\n</g>\n<!-- C5&#45;&gt;C7 -->\n<g id=\"edge14\" class=\"edge\">\n<title>C5&#45;&gt;C7</title>\n<path fill=\"none\" stroke=\"black\" d=\"M345.19,-135.35C358.32,-140.08 374.95,-146.06 389.37,-151.25\"/>\n<polygon fill=\"black\" stroke=\"black\" points=\"388.34,-154.6 398.93,-154.7 390.71,-148.02 388.34,-154.6\"/>\n<text text-anchor=\"middle\" x=\"372\" y=\"-150.8\" font-family=\"Times,serif\" font-size=\"14.00\">&#45;1</text>\n</g>\n<!-- C7&#45;&gt;C3 -->\n<g id=\"edge15\" class=\"edge\">\n<title>C7&#45;&gt;C3</title>\n<path fill=\"none\" stroke=\"black\" d=\"M445.08,-152.57C457.79,-146.28 474.18,-138.17 488.31,-131.19\"/>\n<polygon fill=\"black\" stroke=\"black\" points=\"490.24,-134.14 497.65,-126.56 487.13,-127.86 490.24,-134.14\"/>\n<text text-anchor=\"middle\" x=\"471.5\" y=\"-143.8\" font-family=\"Times,serif\" font-size=\"14.00\">1</text>\n</g>\n</g>\n</svg>\n",
            "text/plain": [
              "<graphviz.graphs.Digraph at 0x790843073be0>"
            ]
          },
          "metadata": {}
        },
        {
          "output_type": "stream",
          "name": "stdout",
          "text": [
            "Enter the threshold value : \n",
            "Enter the state which is to be active (If an iteration of all states active one by one enter 0): \n",
            "FOR ACTIVE STATE  1\n",
            "Resultant vector(s) [Matrix([[1, 0, J, 1, 0, 1, 0]]), Matrix([[1, J, J, 1, J, 1, 0]]), Matrix([[1, J, J, 1, J, 1, 0]])]\n",
            "FOR ACTIVE STATE  2\n",
            "Resultant vector(s) [Matrix([[0, 1, 0, 0, 1, 0, 1]]), Matrix([[0, 1, 1, 0, 1, 0, 0]]), Matrix([[0, 1, 0, 0, 1, 1, 0]]), Matrix([[1, 1, 0, 0, 1, 0, J]]), Matrix([[0, 1, J, 1, 1, 1, 0]]), Matrix([[1, 1, 0, 0, 1, J, 0]]), Matrix([[J, 1, J, 1, 1, 1, J]]), Matrix([[1, 1, J, J, 1, J, 0]]), Matrix([[J, 1, J, 1, 1, 1, 0]]), Matrix([[1, 1, J, J, 1, J, 0]])]\n",
            "FOR ACTIVE STATE  3\n",
            "Resultant vector(s) [Matrix([[0, 0, 1, 0, 1, 1, 0]]), Matrix([[1, 1, 1, 0, 1, 1, 0]]), Matrix([[1, 0, 1, 1, 1, 1, J]]), Matrix([[1, J, 1, 1, 1, 1, 0]]), Matrix([[1, J, 1, 1, 1, 1, 0]])]\n",
            "FOR ACTIVE STATE  4\n",
            "Resultant vector(s) [Matrix([[0, J, 0, 1, 0, 0, 0]]), Matrix([[0, J, 0, 1, J, 0, 0]]), Matrix([[0, J, 0, 1, J, 0, 0]])]\n",
            "FOR ACTIVE STATE  5\n",
            "Resultant vector(s) [Matrix([[0, 0, 0, 0, 1, 0, 0]]), Matrix([[0, 0, 0, 0, 1, 0, 0]])]\n",
            "FOR ACTIVE STATE  6\n",
            "Resultant vector(s) [Matrix([[1, 1, 0, 0, 0, 1, J]]), Matrix([[1, 0, J, 1, 1, 1, 1]]), Matrix([[1, J, 1, 1, J, 1, 0]]), Matrix([[1, J, J, 1, 1, 1, 0]]), Matrix([[1, J, J, 1, J, 1, 0]]), Matrix([[1, J, J, 1, J, 1, 0]])]\n",
            "FOR ACTIVE STATE  7\n",
            "Resultant vector(s) [Matrix([[0, 0, 1, 0, 0, 0, 1]]), Matrix([[0, 0, 1, 0, 1, 1, 1]]), Matrix([[1, 1, 1, 0, 1, 1, 1]]), Matrix([[1, 0, 1, 1, 1, 1, 1]]), Matrix([[1, J, 1, 1, 1, 1, 1]]), Matrix([[1, J, 1, 1, 1, 1, 1]])]\n",
            "FULL TABLE\n",
            "[[Matrix([[1, 0, J, 1, 0, 1, 0]]), Matrix([[1, J, J, 1, J, 1, 0]]), Matrix([[1, J, J, 1, J, 1, 0]])], [Matrix([[0, 1, 0, 0, 1, 0, 1]]), Matrix([[0, 1, 1, 0, 1, 0, 0]]), Matrix([[0, 1, 0, 0, 1, 1, 0]]), Matrix([[1, 1, 0, 0, 1, 0, J]]), Matrix([[0, 1, J, 1, 1, 1, 0]]), Matrix([[1, 1, 0, 0, 1, J, 0]]), Matrix([[J, 1, J, 1, 1, 1, J]]), Matrix([[1, 1, J, J, 1, J, 0]]), Matrix([[J, 1, J, 1, 1, 1, 0]]), Matrix([[1, 1, J, J, 1, J, 0]])], [Matrix([[0, 0, 1, 0, 1, 1, 0]]), Matrix([[1, 1, 1, 0, 1, 1, 0]]), Matrix([[1, 0, 1, 1, 1, 1, J]]), Matrix([[1, J, 1, 1, 1, 1, 0]]), Matrix([[1, J, 1, 1, 1, 1, 0]])], [Matrix([[0, J, 0, 1, 0, 0, 0]]), Matrix([[0, J, 0, 1, J, 0, 0]]), Matrix([[0, J, 0, 1, J, 0, 0]])], [Matrix([[0, 0, 0, 0, 1, 0, 0]]), Matrix([[0, 0, 0, 0, 1, 0, 0]])], [Matrix([[1, 1, 0, 0, 0, 1, J]]), Matrix([[1, 0, J, 1, 1, 1, 1]]), Matrix([[1, J, 1, 1, J, 1, 0]]), Matrix([[1, J, J, 1, 1, 1, 0]]), Matrix([[1, J, J, 1, J, 1, 0]]), Matrix([[1, J, J, 1, J, 1, 0]])], [Matrix([[0, 0, 1, 0, 0, 0, 1]]), Matrix([[0, 0, 1, 0, 1, 1, 1]]), Matrix([[1, 1, 1, 0, 1, 1, 1]]), Matrix([[1, 0, 1, 1, 1, 1, 1]]), Matrix([[1, J, 1, 1, 1, 1, 1]]), Matrix([[1, J, 1, 1, 1, 1, 1]])]]\n",
            "\n",
            "\n",
            "\n",
            "\n",
            "Do you want to proceed with combinations logic for initial state vectors with two 'ON' nodes? (yes/no): yes\n",
            "Activating state: [1, 1, 0, 0, 0, 0, 0]\n",
            "[Matrix([[1, 1, J, 1, 1, 1, 1]]), Matrix([[1, 1, 1, 1, 1, 1, 0]]), Matrix([[1, 1, J, 1, 1, 1, 0]]), Matrix([[1, 1, J, 1, 1, 1, 0]])]\n",
            "Activating state: [1, 0, 1, 0, 0, 0, 0]\n",
            "[Matrix([[1, 0, 1, 1, 1, 1, 0]]), Matrix([[1, J, 1, 1, 1, 1, 0]]), Matrix([[1, J, 1, 1, 1, 1, 0]])]\n",
            "Activating state: [1, 0, 0, 1, 0, 0, 0]\n",
            "[Matrix([[1, 0, J, 1, 0, 1, 0]]), Matrix([[1, J, J, 1, J, 1, 0]]), Matrix([[1, J, J, 1, J, 1, 0]])]\n",
            "Activating state: [1, 0, 0, 0, 1, 0, 0]\n",
            "[Matrix([[1, 0, J, 1, 1, 1, 0]]), Matrix([[1, J, J, 1, 1, 1, 0]]), Matrix([[1, J, J, 1, 1, 1, 0]])]\n",
            "Activating state: [1, 0, 0, 0, 0, 1, 0]\n",
            "[Matrix([[1, 0, J, 1, 0, 1, J]]), Matrix([[1, J, J, 1, J, 1, 0]]), Matrix([[1, J, J, 1, J, 1, 0]])]\n",
            "Activating state: [1, 0, 0, 0, 0, 0, 1]\n",
            "[Matrix([[1, 0, 1, 1, 0, 1, 1]]), Matrix([[1, J, 1, 1, 1, 1, 1]]), Matrix([[1, J, 1, 1, 1, 1, 1]])]\n",
            "Activating state: [0, 1, 1, 0, 0, 0, 0]\n",
            "[Matrix([[0, 1, 1, 0, 1, 1, 1]]), Matrix([[1, 1, 1, 0, 1, 1, J]]), Matrix([[1, 1, 1, 1, 1, 1, J]]), Matrix([[1, 1, 1, 1, 1, 1, 0]]), Matrix([[1, 1, 1, 1, 1, 1, 0]])]\n",
            "Activating state: [0, 1, 0, 1, 0, 0, 0]\n",
            "[Matrix([[0, 1, 0, 1, 1, 0, 0]]), Matrix([[0, 1, 0, 1, 1, 0, 0]])]\n",
            "Activating state: [0, 1, 0, 0, 1, 0, 0]\n",
            "[Matrix([[0, 1, 0, 0, 1, 0, 0]]), Matrix([[0, 1, 0, 0, 1, 0, 0]])]\n",
            "Activating state: [0, 1, 0, 0, 0, 1, 0]\n",
            "[Matrix([[1, 1, 0, 0, 1, 1, 1]]), Matrix([[1, 1, 1, 1, 1, 1, J]]), Matrix([[1, 1, J, 1, 1, 1, 0]]), Matrix([[1, 1, J, 1, 1, 1, 0]])]\n",
            "Activating state: [0, 1, 0, 0, 0, 0, 1]\n",
            "[Matrix([[0, 1, 1, 0, 1, 0, 1]]), Matrix([[0, 1, 1, 0, 1, 1, 1]]), Matrix([[1, 1, 1, 0, 1, 1, 1]]), Matrix([[1, 1, 1, 1, 1, 1, 1]]), Matrix([[1, 1, 1, 1, 1, 1, 1]])]\n",
            "Activating state: [0, 0, 1, 1, 0, 0, 0]\n",
            "[Matrix([[0, J, 1, 1, 1, 1, 0]]), Matrix([[1, 1, 1, 1, 1, 1, 0]]), Matrix([[1, J, 1, 1, 1, 1, 0]]), Matrix([[1, J, 1, 1, 1, 1, 0]])]\n",
            "Activating state: [0, 0, 1, 0, 1, 0, 0]\n",
            "[Matrix([[0, 0, 1, 0, 1, 1, 0]]), Matrix([[1, 1, 1, 0, 1, 1, 0]]), Matrix([[1, 0, 1, 1, 1, 1, J]]), Matrix([[1, J, 1, 1, 1, 1, 0]]), Matrix([[1, J, 1, 1, 1, 1, 0]])]\n",
            "Activating state: [0, 0, 1, 0, 0, 1, 0]\n",
            "[Matrix([[1, 1, 1, 0, 1, 1, J]]), Matrix([[1, 0, 1, 1, 1, 1, J]]), Matrix([[1, J, 1, 1, 1, 1, 0]]), Matrix([[1, J, 1, 1, 1, 1, 0]])]\n",
            "Activating state: [0, 0, 1, 0, 0, 0, 1]\n",
            "[Matrix([[0, 0, 1, 0, 1, 1, 1]]), Matrix([[1, 1, 1, 0, 1, 1, 1]]), Matrix([[1, 0, 1, 1, 1, 1, 1]]), Matrix([[1, J, 1, 1, 1, 1, 1]]), Matrix([[1, J, 1, 1, 1, 1, 1]])]\n",
            "Activating state: [0, 0, 0, 1, 1, 0, 0]\n",
            "[Matrix([[0, J, 0, 1, 1, 0, 0]]), Matrix([[0, J, 0, 1, 1, 0, 0]])]\n",
            "Activating state: [0, 0, 0, 1, 0, 1, 0]\n",
            "[Matrix([[1, 1, 0, 1, 0, 1, 0]]), Matrix([[1, J, J, 1, 1, 1, J]]), Matrix([[1, J, J, 1, J, 1, 0]]), Matrix([[1, J, J, 1, J, 1, 0]])]\n",
            "Activating state: [0, 0, 0, 1, 0, 0, 1]\n",
            "[Matrix([[0, J, 1, 1, 0, 0, 1]]), Matrix([[0, J, 1, 1, 1, 1, 1]]), Matrix([[1, 1, 1, 1, 1, 1, 1]]), Matrix([[1, J, 1, 1, 1, 1, 1]]), Matrix([[1, J, 1, 1, 1, 1, 1]])]\n",
            "Activating state: [0, 0, 0, 0, 1, 1, 0]\n",
            "[Matrix([[1, 1, 0, 0, 1, 1, 0]]), Matrix([[1, 0, J, 1, 1, 1, J]]), Matrix([[1, J, J, 1, 1, 1, 0]]), Matrix([[1, J, J, 1, 1, 1, 0]])]\n",
            "Activating state: [0, 0, 0, 0, 1, 0, 1]\n",
            "[Matrix([[0, 0, 1, 0, 1, 0, 1]]), Matrix([[0, 0, 1, 0, 1, 1, 1]]), Matrix([[1, 1, 1, 0, 1, 1, 1]]), Matrix([[1, 0, 1, 1, 1, 1, 1]]), Matrix([[1, J, 1, 1, 1, 1, 1]]), Matrix([[1, J, 1, 1, 1, 1, 1]])]\n",
            "Activating state: [0, 0, 0, 0, 0, 1, 1]\n",
            "[Matrix([[1, 1, 1, 0, 0, 1, 1]]), Matrix([[1, 0, 1, 1, 1, 1, 1]]), Matrix([[1, J, 1, 1, 1, 1, 1]]), Matrix([[1, J, 1, 1, 1, 1, 1]])]\n",
            "FULL TABLE FOR COMBINATIONS\n",
            "[[Matrix([[1, 1, J, 1, 1, 1, 1]]), Matrix([[1, 1, 1, 1, 1, 1, 0]]), Matrix([[1, 1, J, 1, 1, 1, 0]]), Matrix([[1, 1, J, 1, 1, 1, 0]])], [Matrix([[1, 0, 1, 1, 1, 1, 0]]), Matrix([[1, J, 1, 1, 1, 1, 0]]), Matrix([[1, J, 1, 1, 1, 1, 0]])], [Matrix([[1, 0, J, 1, 0, 1, 0]]), Matrix([[1, J, J, 1, J, 1, 0]]), Matrix([[1, J, J, 1, J, 1, 0]])], [Matrix([[1, 0, J, 1, 1, 1, 0]]), Matrix([[1, J, J, 1, 1, 1, 0]]), Matrix([[1, J, J, 1, 1, 1, 0]])], [Matrix([[1, 0, J, 1, 0, 1, J]]), Matrix([[1, J, J, 1, J, 1, 0]]), Matrix([[1, J, J, 1, J, 1, 0]])], [Matrix([[1, 0, 1, 1, 0, 1, 1]]), Matrix([[1, J, 1, 1, 1, 1, 1]]), Matrix([[1, J, 1, 1, 1, 1, 1]])], [Matrix([[0, 1, 1, 0, 1, 1, 1]]), Matrix([[1, 1, 1, 0, 1, 1, J]]), Matrix([[1, 1, 1, 1, 1, 1, J]]), Matrix([[1, 1, 1, 1, 1, 1, 0]]), Matrix([[1, 1, 1, 1, 1, 1, 0]])], [Matrix([[0, 1, 0, 1, 1, 0, 0]]), Matrix([[0, 1, 0, 1, 1, 0, 0]])], [Matrix([[0, 1, 0, 0, 1, 0, 0]]), Matrix([[0, 1, 0, 0, 1, 0, 0]])], [Matrix([[1, 1, 0, 0, 1, 1, 1]]), Matrix([[1, 1, 1, 1, 1, 1, J]]), Matrix([[1, 1, J, 1, 1, 1, 0]]), Matrix([[1, 1, J, 1, 1, 1, 0]])], [Matrix([[0, 1, 1, 0, 1, 0, 1]]), Matrix([[0, 1, 1, 0, 1, 1, 1]]), Matrix([[1, 1, 1, 0, 1, 1, 1]]), Matrix([[1, 1, 1, 1, 1, 1, 1]]), Matrix([[1, 1, 1, 1, 1, 1, 1]])], [Matrix([[0, J, 1, 1, 1, 1, 0]]), Matrix([[1, 1, 1, 1, 1, 1, 0]]), Matrix([[1, J, 1, 1, 1, 1, 0]]), Matrix([[1, J, 1, 1, 1, 1, 0]])], [Matrix([[0, 0, 1, 0, 1, 1, 0]]), Matrix([[1, 1, 1, 0, 1, 1, 0]]), Matrix([[1, 0, 1, 1, 1, 1, J]]), Matrix([[1, J, 1, 1, 1, 1, 0]]), Matrix([[1, J, 1, 1, 1, 1, 0]])], [Matrix([[1, 1, 1, 0, 1, 1, J]]), Matrix([[1, 0, 1, 1, 1, 1, J]]), Matrix([[1, J, 1, 1, 1, 1, 0]]), Matrix([[1, J, 1, 1, 1, 1, 0]])], [Matrix([[0, 0, 1, 0, 1, 1, 1]]), Matrix([[1, 1, 1, 0, 1, 1, 1]]), Matrix([[1, 0, 1, 1, 1, 1, 1]]), Matrix([[1, J, 1, 1, 1, 1, 1]]), Matrix([[1, J, 1, 1, 1, 1, 1]])], [Matrix([[0, J, 0, 1, 1, 0, 0]]), Matrix([[0, J, 0, 1, 1, 0, 0]])], [Matrix([[1, 1, 0, 1, 0, 1, 0]]), Matrix([[1, J, J, 1, 1, 1, J]]), Matrix([[1, J, J, 1, J, 1, 0]]), Matrix([[1, J, J, 1, J, 1, 0]])], [Matrix([[0, J, 1, 1, 0, 0, 1]]), Matrix([[0, J, 1, 1, 1, 1, 1]]), Matrix([[1, 1, 1, 1, 1, 1, 1]]), Matrix([[1, J, 1, 1, 1, 1, 1]]), Matrix([[1, J, 1, 1, 1, 1, 1]])], [Matrix([[1, 1, 0, 0, 1, 1, 0]]), Matrix([[1, 0, J, 1, 1, 1, J]]), Matrix([[1, J, J, 1, 1, 1, 0]]), Matrix([[1, J, J, 1, 1, 1, 0]])], [Matrix([[0, 0, 1, 0, 1, 0, 1]]), Matrix([[0, 0, 1, 0, 1, 1, 1]]), Matrix([[1, 1, 1, 0, 1, 1, 1]]), Matrix([[1, 0, 1, 1, 1, 1, 1]]), Matrix([[1, J, 1, 1, 1, 1, 1]]), Matrix([[1, J, 1, 1, 1, 1, 1]])], [Matrix([[1, 1, 1, 0, 0, 1, 1]]), Matrix([[1, 0, 1, 1, 1, 1, 1]]), Matrix([[1, J, 1, 1, 1, 1, 1]]), Matrix([[1, J, 1, 1, 1, 1, 1]])]]\n"
          ]
        }
      ]
    },
    {
      "cell_type": "code",
      "source": [],
      "metadata": {
        "id": "mXraEgnwvw0L"
      },
      "execution_count": null,
      "outputs": []
    }
  ],
  "metadata": {
    "colab": {
      "provenance": [],
      "include_colab_link": true
    },
    "kernelspec": {
      "display_name": "Python 3",
      "name": "python3"
    },
    "language_info": {
      "codemirror_mode": {
        "name": "ipython",
        "version": 3
      },
      "file_extension": ".py",
      "mimetype": "text/x-python",
      "name": "python",
      "nbconvert_exporter": "python",
      "pygments_lexer": "ipython3",
      "version": "3.10.5"
    }
  },
  "nbformat": 4,
  "nbformat_minor": 0
}